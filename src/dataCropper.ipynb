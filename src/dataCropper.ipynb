{
 "cells": [
  {
   "cell_type": "markdown",
   "metadata": {},
   "source": [
    "1. 7000개 샘플링"
   ]
  },
  {
   "cell_type": "code",
   "execution_count": 2,
   "metadata": {},
   "outputs": [
    {
     "name": "stdout",
     "output_type": "stream",
     "text": [
      "파일 복사 및 이름 변경이 완료되었습니다.\n"
     ]
    }
   ],
   "source": [
    "import random\n",
    "import glob\n",
    "import shutil\n",
    "import os\n",
    "\n",
    "# 지정된 경로에서 .json 파일 리스트 가져오기\n",
    "file_list = glob.glob('../data//train/train_*.json')\n",
    "\n",
    "# 랜덤하게 7000개 파일 선택\n",
    "selected_files = random.sample(file_list, 7000)\n",
    "\n",
    "# 파일 이름 오름차순으로 정렬\n",
    "selected_files.sort()\n",
    "\n",
    "# 특정 디렉토리 생성 (이미 존재하는 경우에는 패스)\n",
    "target_directory = \"../data/selected_train/\"\n",
    "if not os.path.exists(target_directory):\n",
    "    os.makedirs(target_directory)\n",
    "\n",
    "# 선택된 파일을 특정 디렉토리에 복사하고 이름 변경\n",
    "for i, file in enumerate(selected_files):\n",
    "    new_filename = f\"{target_directory}train_{100000 + i}.json\"\n",
    "    shutil.copy(file, new_filename)\n",
    "\n",
    "print(\"파일 복사 및 이름 변경이 완료되었습니다.\")"
   ]
  },
  {
   "cell_type": "markdown",
   "metadata": {},
   "source": [
    "2. 클래스별 샘플링"
   ]
  },
  {
   "cell_type": "code",
   "execution_count": 3,
   "metadata": {},
   "outputs": [
    {
     "name": "stdout",
     "output_type": "stream",
     "text": [
      "라벨별 카운트: Counter({'01_ulcer': 4316, '05_bleeding': 2198, '04_lymph': 1353, '02_mass': 1124})\n"
     ]
    }
   ],
   "source": [
    "import json\n",
    "from collections import Counter\n",
    "\n",
    "# 라벨별 카운트를 저장할 Counter 객체 생성\n",
    "label_counter = Counter()\n",
    "\n",
    "# 선택된 파일에서 라벨 정보 읽기\n",
    "for file in selected_files:\n",
    "    with open(file, 'r') as f:\n",
    "        data = json.load(f)\n",
    "        shapes = data['shapes']\n",
    "        for shape in shapes:\n",
    "            label = shape['label']\n",
    "            label_counter[label] += 1\n",
    "\n",
    "# 라벨별 카운트 출력\n",
    "print(\"라벨별 카운트:\", label_counter)"
   ]
  },
  {
   "cell_type": "code",
   "execution_count": 4,
   "metadata": {},
   "outputs": [
    {
     "name": "stdout",
     "output_type": "stream",
     "text": [
      "언더샘플링 및 파일 복사가 완료되었습니다.\n"
     ]
    }
   ],
   "source": [
    "# 언더샘플링 로직 약 10초 소요\n",
    "min_count = min(label_counter.values())\n",
    "undersampled_files = []\n",
    "\n",
    "for label, count in label_counter.items():\n",
    "    candidate_files = [file for file in selected_files if any(shape['label'] == label for shape in json.load(open(file, 'r'))['shapes'])]\n",
    "    \n",
    "    # 가장 적은 라벨의 개수와 현재 라벨의 파일 개수 중 작은 것을 선택\n",
    "    sample_count = min(min_count, len(candidate_files))\n",
    "    \n",
    "    # 에러 방지를 위해 sample_count가 0보다 클 경우에만 샘플링\n",
    "    if sample_count > 0:\n",
    "        undersampled_files.extend(random.sample(candidate_files, sample_count))\n",
    "\n",
    "# 언더샘플링된 파일을 새로운 디렉토리에 복사\n",
    "undersampled_directory = \"../data/selected_train_UNDER/\"\n",
    "if not os.path.exists(undersampled_directory):\n",
    "    os.makedirs(undersampled_directory)\n",
    "\n",
    "for i, file in enumerate(undersampled_files):\n",
    "    new_filename = f\"{undersampled_directory}train_{100000 + i}.json\"\n",
    "    shutil.copy(file, new_filename)\n",
    "\n",
    "print(\"언더샘플링 및 파일 복사가 완료되었습니다.\")"
   ]
  },
  {
   "cell_type": "code",
   "execution_count": null,
   "metadata": {},
   "outputs": [],
   "source": []
  }
 ],
 "metadata": {
  "kernelspec": {
   "display_name": "Python 3",
   "language": "python",
   "name": "python3"
  },
  "language_info": {
   "codemirror_mode": {
    "name": "ipython",
    "version": 3
   },
   "file_extension": ".py",
   "mimetype": "text/x-python",
   "name": "python",
   "nbconvert_exporter": "python",
   "pygments_lexer": "ipython3",
   "version": "3.9.6"
  }
 },
 "nbformat": 4,
 "nbformat_minor": 2
}
