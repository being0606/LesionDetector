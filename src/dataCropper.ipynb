{
 "cells": [
  {
   "cell_type": "code",
   "execution_count": 4,
   "metadata": {},
   "outputs": [
    {
     "name": "stdout",
     "output_type": "stream",
     "text": [
      "파일 복사 및 이름 변경이 완료되었습니다.\n"
     ]
    }
   ],
   "source": [
    "import random\n",
    "import glob\n",
    "import shutil\n",
    "import os\n",
    "\n",
    "# 지정된 경로에서 .json 파일 리스트 가져오기\n",
    "file_list = glob.glob('../data//train/train_*.json')\n",
    "\n",
    "# 랜덤하게 7000개 파일 선택\n",
    "selected_files = random.sample(file_list, 7000)\n",
    "\n",
    "# 파일 이름 오름차순으로 정렬\n",
    "selected_files.sort()\n",
    "\n",
    "# 특정 디렉토리 생성 (이미 존재하는 경우에는 패스)\n",
    "target_directory = \"../data/selected_train/\"\n",
    "if not os.path.exists(target_directory):\n",
    "    os.makedirs(target_directory)\n",
    "\n",
    "# 선택된 파일을 특정 디렉토리에 복사하고 이름 변경\n",
    "for i, file in enumerate(selected_files):\n",
    "    new_filename = f\"{target_directory}train_{100000 + i}.json\"\n",
    "    shutil.copy(file, new_filename)\n",
    "\n",
    "print(\"파일 복사 및 이름 변경이 완료되었습니다.\")"
   ]
  },
  {
   "cell_type": "code",
   "execution_count": 1,
   "metadata": {},
   "outputs": [
    {
     "ename": "ValueError",
     "evalue": "max() arg is an empty sequence",
     "output_type": "error",
     "traceback": [
      "\u001b[0;31m---------------------------------------------------------------------------\u001b[0m",
      "\u001b[0;31mValueError\u001b[0m                                Traceback (most recent call last)",
      "\u001b[1;32m/Users/being/Desktop/[github] workspace/LesionDetector/src/dataCropper.ipynb 셀 1\u001b[0m line \u001b[0;36m2\n\u001b[1;32m     <a href='vscode-notebook-cell:/Users/being/Desktop/%5Bgithub%5D%20workspace/LesionDetector/src/dataCropper.ipynb#W0sZmlsZQ%3D%3D?line=20'>21</a>\u001b[0m         label_image_dict[label]\u001b[39m.\u001b[39mappend(image_path)\n\u001b[1;32m     <a href='vscode-notebook-cell:/Users/being/Desktop/%5Bgithub%5D%20workspace/LesionDetector/src/dataCropper.ipynb#W0sZmlsZQ%3D%3D?line=22'>23</a>\u001b[0m \u001b[39m# 가장 많은 라벨의 이미지 수 찾기\u001b[39;00m\n\u001b[0;32m---> <a href='vscode-notebook-cell:/Users/being/Desktop/%5Bgithub%5D%20workspace/LesionDetector/src/dataCropper.ipynb#W0sZmlsZQ%3D%3D?line=23'>24</a>\u001b[0m max_count \u001b[39m=\u001b[39m \u001b[39mmax\u001b[39;49m(\u001b[39mlen\u001b[39;49m(images) \u001b[39mfor\u001b[39;49;00m images \u001b[39min\u001b[39;49;00m label_image_dict\u001b[39m.\u001b[39;49mvalues())\n\u001b[1;32m     <a href='vscode-notebook-cell:/Users/being/Desktop/%5Bgithub%5D%20workspace/LesionDetector/src/dataCropper.ipynb#W0sZmlsZQ%3D%3D?line=25'>26</a>\u001b[0m \u001b[39m# 라벨별로 랜덤 샘플링\u001b[39;00m\n\u001b[1;32m     <a href='vscode-notebook-cell:/Users/being/Desktop/%5Bgithub%5D%20workspace/LesionDetector/src/dataCropper.ipynb#W0sZmlsZQ%3D%3D?line=26'>27</a>\u001b[0m sampled_image_dict \u001b[39m=\u001b[39m {}\n",
      "\u001b[0;31mValueError\u001b[0m: max() arg is an empty sequence"
     ]
    }
   ],
   "source": [
    "import json\n",
    "import random\n",
    "import glob\n",
    "\n",
    "# 모든 json 파일을 읽어들이기\n",
    "json_files = glob.glob('../data/train/train_*.json')\n",
    "\n",
    "# 라벨별로 이미지 리스트 저장\n",
    "label_image_dict = {}\n",
    "\n",
    "# 각 json 파일 처리\n",
    "for json_file in json_files:\n",
    "    with open(json_file, 'r') as f:\n",
    "        data = json.load(f)\n",
    "        label = data['label']\n",
    "        image_path = data['image_path']\n",
    "        \n",
    "        if label not in label_image_dict:\n",
    "            label_image_dict[label] = []\n",
    "        \n",
    "        label_image_dict[label].append(image_path)\n",
    "\n",
    "# 가장 많은 라벨의 이미지 수 찾기\n",
    "max_count = max(len(images) for images in label_image_dict.values())\n",
    "\n",
    "# 라벨별로 랜덤 샘플링\n",
    "sampled_image_dict = {}\n",
    "\n",
    "for label, images in label_image_dict.items():\n",
    "    sampled_images = random.sample(images, min(max_count, len(images)))\n",
    "    sampled_image_dict[label] = sampled_images\n"
   ]
  },
  {
   "cell_type": "code",
   "execution_count": null,
   "metadata": {},
   "outputs": [],
   "source": [
    "import shutil\n",
    "\n",
    "for label, images in sampled_image_dict.items():\n",
    "    for image in images:\n",
    "        shutil.copy(image, f'../data_sample/sampled_train/{label}/')\n"
   ]
  }
 ],
 "metadata": {
  "kernelspec": {
   "display_name": "Python 3",
   "language": "python",
   "name": "python3"
  },
  "language_info": {
   "codemirror_mode": {
    "name": "ipython",
    "version": 3
   },
   "file_extension": ".py",
   "mimetype": "text/x-python",
   "name": "python",
   "nbconvert_exporter": "python",
   "pygments_lexer": "ipython3",
   "version": "3.9.6"
  }
 },
 "nbformat": 4,
 "nbformat_minor": 2
}
